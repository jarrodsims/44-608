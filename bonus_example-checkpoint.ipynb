{
 "cells": [
  {
   "cell_type": "code",
   "execution_count": 1,
   "metadata": {},
   "outputs": [
    {
     "data": {
      "text/plain": [
       "4"
      ]
     },
     "execution_count": 1,
     "metadata": {},
     "output_type": "execute_result"
    }
   ],
   "source": [
    "#bonus.ipynb\n",
    "#Jarrod Sims\n",
    "\"\"\"Reference for processing data with python statements. Calculates the average height of the starting 5 of a basketball team.\"\"\"\n",
    "\n",
    "height1 = input('Enter height of player 1')\n",
    "height1 = float(height1)\n",
    "\n",
    "height2 = input('Enter height of player 2')\n",
    "height2 = float(height2)\n",
    "\n",
    "height3 = input('Enter height of player 3')\n",
    "height3 = float(height3)\n",
    "\n",
    "height4 = input('Enter height of player 4')\n",
    "height4 = float(height4)\n",
    "\n",
    "height5 = input('Enter height of player 5')\n",
    "height5 = float(height5)\n",
    "\n",
    "averageheight = (height1 + height2 + height3 + height4 + height5) / 5\n",
    "print ('Average team height is equal to', averageheight)"
   ]
  }
 ],
 "metadata": {
  "kernelspec": {
   "display_name": "Python 3.10.5 64-bit",
   "language": "python",
   "name": "python3"
  },
  "language_info": {
   "codemirror_mode": {
    "name": "ipython",
    "version": 3
   },
   "file_extension": ".py",
   "mimetype": "text/x-python",
   "name": "python",
   "nbconvert_exporter": "python",
   "pygments_lexer": "ipython3",
   "version": "3.10.5"
  },
  "orig_nbformat": 4,
  "vscode": {
   "interpreter": {
    "hash": "28854fdb3410e9675af2537d8e0db19f8ed86f9f292a4c8c24b22c7b513243cf"
   }
  }
 },
 "nbformat": 4,
 "nbformat_minor": 2
}
